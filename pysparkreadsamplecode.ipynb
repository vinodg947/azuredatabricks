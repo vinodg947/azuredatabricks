{
 "cells": [
  {
   "cell_type": "code",
   "execution_count": 0,
   "metadata": {
    "application/vnd.databricks.v1+cell": {
     "cellMetadata": {
      "byteLimit": 2048000,
      "rowLimit": 10000
     },
     "inputWidgets": {},
     "nuid": "aaf81907-93ef-4ccd-ad00-910aea40df69",
     "showTitle": false,
     "tableResultSettingsMap": {},
     "title": ""
    }
   },
   "outputs": [],
   "source": [
    "from pyspark.sql import SparkSession\n",
    "\n",
    "# Step 1: Initialize SparkSession\n",
    "spark = SparkSession.builder.appName(\"ListToDataFrame\").getOrCreate()\n",
    "\n",
    "# Step 2: Define your list of data (each row is a tuple)\n",
    "data = [\n",
    "    (1, \"Alice\", 28),\n",
    "    (2, \"Bob\", 35),\n",
    "    (3, \"Charlie\", 22)\n",
    "]\n",
    "\n",
    "# Step 3: Define the schema (column names)\n",
    "columns = [\"ID\", \"Name\", \"Age\"]\n",
    "\n",
    "# Step 4: Create DataFrame from list\n",
    "df = spark.createDataFrame(data, schema=columns)\n",
    "\n",
    "# Step 5: Show the DataFrame\n",
    "df.show()"
   ]
  }
 ],
 "metadata": {
  "application/vnd.databricks.v1+notebook": {
   "computePreferences": null,
   "dashboards": [],
   "environmentMetadata": {
    "base_environment": "",
    "environment_version": "2"
   },
   "inputWidgetPreferences": null,
   "language": "python",
   "notebookMetadata": {
    "pythonIndentUnit": 4
   },
   "notebookName": "pysparkreadsamplecode",
   "widgets": {}
  },
  "language_info": {
   "name": "python"
  }
 },
 "nbformat": 4,
 "nbformat_minor": 0
}
